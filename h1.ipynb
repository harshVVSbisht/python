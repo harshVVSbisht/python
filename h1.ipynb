{
 "cells": [
  {
   "cell_type": "markdown",
   "id": "57766458",
   "metadata": {},
   "source": [
    "print(\"hlo!\")"
   ]
  },
  {
   "cell_type": "code",
   "execution_count": 1,
   "id": "f0683962",
   "metadata": {},
   "outputs": [
    {
     "name": "stdout",
     "output_type": "stream",
     "text": [
      "hlo!\n"
     ]
    }
   ],
   "source": [
    "print(\"hlo!\")"
   ]
  },
  {
   "cell_type": "code",
   "execution_count": 2,
   "id": "c895686a",
   "metadata": {},
   "outputs": [],
   "source": [
    "###hlo!"
   ]
  },
  {
   "cell_type": "markdown",
   "id": "5c53a027",
   "metadata": {},
   "source": [
    "### sdfgsfs"
   ]
  },
  {
   "cell_type": "markdown",
   "id": "9467b025",
   "metadata": {},
   "source": [
    "#### sfdsf"
   ]
  },
  {
   "cell_type": "markdown",
   "id": "477c930e",
   "metadata": {},
   "source": [
    "##### sfsfef"
   ]
  },
  {
   "cell_type": "markdown",
   "id": "edcc962c",
   "metadata": {},
   "source": [
    "## dgfdf"
   ]
  },
  {
   "cell_type": "markdown",
   "id": "cccac1ee",
   "metadata": {},
   "source": [
    "# fg"
   ]
  },
  {
   "cell_type": "markdown",
   "id": "f5f0cdd4",
   "metadata": {},
   "source": [
    "ddff"
   ]
  },
  {
   "cell_type": "code",
   "execution_count": 3,
   "id": "0d7a9f35",
   "metadata": {},
   "outputs": [],
   "source": [
    "# print(3)"
   ]
  },
  {
   "cell_type": "code",
   "execution_count": null,
   "id": "52a00f96",
   "metadata": {},
   "outputs": [],
   "source": []
  },
  {
   "cell_type": "code",
   "execution_count": null,
   "id": "7d6f0cde",
   "metadata": {},
   "outputs": [],
   "source": []
  },
  {
   "cell_type": "code",
   "execution_count": null,
   "id": "f53fb933",
   "metadata": {},
   "outputs": [],
   "source": []
  },
  {
   "cell_type": "code",
   "execution_count": 4,
   "id": "031aca2f",
   "metadata": {},
   "outputs": [
    {
     "name": "stdout",
     "output_type": "stream",
     "text": [
      "x\n"
     ]
    }
   ],
   "source": [
    "def abc(x):\n",
    "    print(\"x\")\n",
    "    return\n",
    "\n",
    "a=4\n",
    "abc(a)"
   ]
  },
  {
   "cell_type": "code",
   "execution_count": 5,
   "id": "1b4a0621",
   "metadata": {},
   "outputs": [
    {
     "name": "stdout",
     "output_type": "stream",
     "text": [
      "4\n"
     ]
    }
   ],
   "source": [
    "def abc(x):\n",
    "    print(x)\n",
    "    return\n",
    "\n",
    "a=4\n",
    "abc(a)"
   ]
  },
  {
   "cell_type": "code",
   "execution_count": 6,
   "id": "c12c1c47",
   "metadata": {},
   "outputs": [
    {
     "ename": "SyntaxError",
     "evalue": "invalid syntax (2991289304.py, line 2)",
     "output_type": "error",
     "traceback": [
      "\u001b[1;36m  Cell \u001b[1;32mIn[6], line 2\u001b[1;36m\u001b[0m\n\u001b[1;33m    type a\u001b[0m\n\u001b[1;37m         ^\u001b[0m\n\u001b[1;31mSyntaxError\u001b[0m\u001b[1;31m:\u001b[0m invalid syntax\n"
     ]
    }
   ],
   "source": [
    "a=0\n",
    "type a\n"
   ]
  },
  {
   "cell_type": "code",
   "execution_count": 7,
   "id": "bdcdefcf",
   "metadata": {},
   "outputs": [
    {
     "name": "stdout",
     "output_type": "stream",
     "text": [
      "<class 'int'>\n"
     ]
    }
   ],
   "source": [
    "a=0\n",
    "print(type(a))"
   ]
  },
  {
   "cell_type": "code",
   "execution_count": 8,
   "id": "70a749ee",
   "metadata": {},
   "outputs": [
    {
     "data": {
      "text/plain": [
       "int"
      ]
     },
     "execution_count": 8,
     "metadata": {},
     "output_type": "execute_result"
    }
   ],
   "source": [
    "a=0\n",
    "type(a)"
   ]
  },
  {
   "cell_type": "code",
   "execution_count": 9,
   "id": "c7711453",
   "metadata": {},
   "outputs": [
    {
     "data": {
      "text/plain": [
       "int"
      ]
     },
     "execution_count": 9,
     "metadata": {},
     "output_type": "execute_result"
    }
   ],
   "source": [
    "name=\"harsh bisht\"\n",
    "age=20\n",
    "type(name)\n",
    "type(age)"
   ]
  },
  {
   "cell_type": "code",
   "execution_count": null,
   "id": "87bee853",
   "metadata": {},
   "outputs": [],
   "source": []
  }
 ],
 "metadata": {
  "kernelspec": {
   "display_name": "Python 3 (ipykernel)",
   "language": "python",
   "name": "python3"
  },
  "language_info": {
   "codemirror_mode": {
    "name": "ipython",
    "version": 3
   },
   "file_extension": ".py",
   "mimetype": "text/x-python",
   "name": "python",
   "nbconvert_exporter": "python",
   "pygments_lexer": "ipython3",
   "version": "3.10.9"
  }
 },
 "nbformat": 4,
 "nbformat_minor": 5
}
